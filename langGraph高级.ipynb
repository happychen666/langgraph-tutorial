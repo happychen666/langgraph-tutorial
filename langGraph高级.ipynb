{
 "cells": [
  {
   "cell_type": "code",
   "execution_count": null,
   "id": "8d88d890-193c-49ad-9cde-db69589c9cd4",
   "metadata": {},
   "outputs": [
    {
     "name": "stdin",
     "output_type": "stream",
     "text": [
      "User:  集团内\n"
     ]
    },
    {
     "name": "stdout",
     "output_type": "stream",
     "text": [
      "Assistant: \n",
      "Assistant: [{\"url\": \"https://www.chinaacc.com/shuishou/dyjh/qi20230213111231.shtml\", \"content\": \"问集团内成员单位如何界定，具体包括哪些单位？参考《企业集团财务公司管理办法》（中国银行保险监督管理委员会令2022年第6号）规定：\\\"第三条 本办法所称企业集团是指在中华人民共和国境内依法登记，以资本为联结纽带、以母子公司为主体、以集团章程为共同行为规范，由母公司、子公司\"}, {\"url\": \"https://baike.baidu.com/item/集团公司/6161765\", \"content\": \"集团公司是为了一定的目的组织起来共同行动的团体公司，是指以资本为主要联结纽带，以母子公司为主体，以集团章程为共同行为规范的，由母公司、子公司、参股公司及其他成员共同组成的企业法人联合体。一般意义上的集团公司，是指拥有众多生产、经营机构的大型公司。它一般都经营着规模\"}]\n",
      "Assistant: 在企业集团内，成员单位如何界定以及具体包括哪些单位可以参考《企业集团财务公司管理办法》的规定。企业集团是指在中华人民共和国境内依法登记，以资本为联结纽带、以母子公司为主体、以集团章程为共同行为规范，由母公司、子公司共同组成的企业法人联合体。\n",
      "\n",
      "另外，集团公司是一个为了一定目的而组织起来共同行动的团体公司，以资本为主要联结纽带，以母子公司为主体，以集团章程为共同行为规范，由母公司、子公司、参股公司及其他成员共同组成的企业法人联合体。\n",
      "\n",
      "如果需要更详细或具体的信息，请访问相关链接：\n",
      "1. [中国会计网-《企业集团财务公司管理办法》](https://www.chinaacc.com/shuishou/dyjh/qi20230213111231.shtml)\n",
      "2. [百度百科-集团公司](https://baike.baidu.com/item/集团公司/6161765)\n"
     ]
    }
   ],
   "source": [
    "#pip install -U tavily-python langchain_community\n",
    "from typing import Annotated\n",
    "from langchain_community.tools.tavily_search import TavilySearchResults\n",
    "from typing_extensions import TypedDict\n",
    "\n",
    "from langgraph.graph import StateGraph\n",
    "from langgraph.graph.message import add_messages\n",
    "from langgraph.prebuilt import ToolNode, tools_condition\n",
    "from langchain_openai import ChatOpenAI\n",
    "from langgraph.checkpoint.memory import MemorySaver\n",
    "\n",
    "class State(TypedDict):\n",
    "    messages: Annotated[list, add_messages]\n",
    "\n",
    " # Import the necessary tool class, in this case TavilySearchResults\n",
    "tool = TavilySearchResults(max_results=2)\n",
    "tools = [tool]\n",
    "\n",
    "# Set the model as ChatOpenAI\n",
    "llm = ChatOpenAI(temperature=0) \n",
    "\n",
    "#Call the model with a user message\n",
    "# content = llm.invoke((\"user\", 'Hey there')).content\n",
    "# content\n",
    "\n",
    "# Create an instance of the tool and bind it to the LLM using llm.bind_tools(). \n",
    "# This informs the LLM about the available tools and their usage.\n",
    "llm_with_tools = llm.bind_tools(tools)\n",
    "\n",
    "def chatbot(state: State):\n",
    "    return {\"messages\": [llm_with_tools.invoke(state[\"messages\"])]}\n",
    "\n",
    "tool_node = ToolNode(tools=[tool])\n",
    "\n",
    "graph_builder = StateGraph(State)\n",
    "graph_builder.add_node(\"chatbot\", chatbot)\n",
    "# Add the ToolNode to the Graph\n",
    "graph_builder.add_node(\"tools\", tool_node)\n",
    "\n",
    "# Utilize graph_builder.add_conditional_edges() to set up routing logic based on whether the LLM decides to call a tool. \n",
    "# The tools_condition function checks if the LLM's response includes tool invocation instructions\n",
    "graph_builder.add_conditional_edges(\n",
    "    \"chatbot\",\n",
    "    tools_condition,\n",
    ")\n",
    "# Any time a tool is called, we return to the chatbot to decide the next step\n",
    "graph_builder.add_edge(\"tools\", \"chatbot\")\n",
    "graph_builder.set_entry_point(\"chatbot\")\n",
    "\n",
    "# Create a MemorySaver object to act as the checkpointer\n",
    "memory = MemorySaver()\n",
    "\n",
    "# Compile the graph, passing in the 'memory' object as the checkpointer\n",
    "graph = graph_builder.compile(checkpointer=memory)\n",
    "\n",
    "config = {\"configurable\": {\"thread_id\": \"1\"}}\n",
    "\n",
    "while True:\n",
    "    user_input = input(\"User: \")\n",
    "    if user_input.lower() in [\"quit\", \"exit\", \"q\"]:\n",
    "        print(\"Goodbye!\")\n",
    "        break\n",
    "\n",
    "    # Process user input through the LangGraph\n",
    "    for event in graph.stream({\"messages\": [(\"user\", user_input)]}, config):\n",
    "        for value in event.values():\n",
    "            print(\"Assistant:\", value[\"messages\"][-1].content)\n"
   ]
  },
  {
   "cell_type": "code",
   "execution_count": 5,
   "id": "8c9dd31a-c05b-45ea-806b-c3fb61bbf4df",
   "metadata": {},
   "outputs": [
    {
     "data": {
      "text/plain": [
       "<langgraph.checkpoint.memory.MemorySaver at 0x17f8b9e7970>"
      ]
     },
     "execution_count": 5,
     "metadata": {},
     "output_type": "execute_result"
    }
   ],
   "source": [
    "memory"
   ]
  },
  {
   "cell_type": "code",
   "execution_count": null,
   "id": "caa95f92-c733-4aa7-b79f-474237a46684",
   "metadata": {},
   "outputs": [],
   "source": []
  }
 ],
 "metadata": {
  "kernelspec": {
   "display_name": "Python (env-name)",
   "language": "python",
   "name": "env-name"
  },
  "language_info": {
   "codemirror_mode": {
    "name": "ipython",
    "version": 3
   },
   "file_extension": ".py",
   "mimetype": "text/x-python",
   "name": "python",
   "nbconvert_exporter": "python",
   "pygments_lexer": "ipython3",
   "version": "3.10.16"
  }
 },
 "nbformat": 4,
 "nbformat_minor": 5
}
