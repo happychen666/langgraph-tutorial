{
 "cells": [
  {
   "cell_type": "code",
   "execution_count": 1,
   "id": "36fcde36-7b37-4f5a-a813-0289c9a3a909",
   "metadata": {},
   "outputs": [],
   "source": [
    " from typing import Annotated\n",
    " from typing_extensions import TypedDict\n",
    " from langgraph.graph import StateGraph, START, END\n",
    " from langgraph.graph.message import add_messages\n"
   ]
  },
  {
   "cell_type": "code",
   "execution_count": 2,
   "id": "3b4c6ab0-5390-41d7-a96f-cba62c07dfdf",
   "metadata": {},
   "outputs": [
    {
     "name": "stdout",
     "output_type": "stream",
     "text": [
      "什么时候执行呢\n"
     ]
    }
   ],
   "source": [
    " class State(TypedDict):\n",
    "     # 'messages66' will store the chatbot conversation history.\n",
    "     # The 'add_messages' function ensures new messages are appended to the list.\n",
    "     print('什么时候执行呢')\n",
    "     messages66: Annotated[list, add_messages]"
   ]
  },
  {
   "cell_type": "code",
   "execution_count": 8,
   "id": "99ffb8b4-6a39-4bf2-9721-c1acbb2b8ad0",
   "metadata": {},
   "outputs": [
    {
     "data": {
      "text/plain": [
       "'Hello! How can I assist you today?'"
      ]
     },
     "execution_count": 8,
     "metadata": {},
     "output_type": "execute_result"
    }
   ],
   "source": [
    "from langchain_openai import ChatOpenAI\n",
    "\n",
    "# Set the model as ChatOpenAI\n",
    "llm = ChatOpenAI(temperature=0) \n",
    "\n",
    "#Call the model with a user message\n",
    "# content = llm.invoke((\"user\", 'Hey there')).content\n",
    "# content"
   ]
  },
  {
   "cell_type": "code",
   "execution_count": 4,
   "id": "b32452a0-6262-4ebc-b8a7-655cb9b85000",
   "metadata": {},
   "outputs": [],
   "source": [
    " def chatbot(state: State):\n",
    "     # Use the LLM to generate a response based on the current conversation history.\n",
    "     print('执行顺序1--- state值为：',state)\n",
    "     response = llm.invoke(state[\"messages66\"])\n",
    "\n",
    "     # Return the updated state with the new message appended\n",
    "     return {\"messages66\": [response]}"
   ]
  },
  {
   "cell_type": "code",
   "execution_count": 5,
   "id": "d751b208-3dfa-468f-9643-56feac03fa32",
   "metadata": {},
   "outputs": [],
   "source": [
    " # Create an instance of the StateGraph, passing in the State class\n",
    " graph_builder = StateGraph(State)\n",
    "\n",
    "# Add the 'chatbot' node to the graph,\n",
    " graph_builder.add_node(\"chatbot\", chatbot)\n",
    "\n",
    "# For this basic chatbot, the 'chatbot' node is both the entry and finish point\n",
    " graph_builder.add_edge(START, \"chatbot\")\n",
    " graph_builder.add_edge(\"chatbot\", END)\n",
    " graph = graph_builder.compile()\n"
   ]
  },
  {
   "cell_type": "code",
   "execution_count": 9,
   "id": "c78324f5-057e-435f-b474-ee5b38288a81",
   "metadata": {},
   "outputs": [
    {
     "name": "stdin",
     "output_type": "stream",
     "text": [
      "User:  今天好么\n"
     ]
    },
    {
     "name": "stdout",
     "output_type": "stream",
     "text": [
      "执行顺序1--- state值为： {'messages66': [HumanMessage(content='今天好么', additional_kwargs={}, response_metadata={}, id='d3896e63-2dcf-45dd-9511-4fd3ba897a5f')]}\n",
      "执行顺序2--- {'messages66': [AIMessage(content='今天还不错，谢谢你的关心。你今天怎么样呢？需要我为你做些什么吗？', additional_kwargs={'refusal': None}, response_metadata={'token_usage': {'completion_tokens': 38, 'prompt_tokens': 11, 'total_tokens': 49, 'completion_tokens_details': None, 'prompt_tokens_details': None}, 'model_name': 'gpt-3.5-turbo', 'system_fingerprint': 'fp_0165350fbb', 'finish_reason': 'stop', 'logprobs': None}, id='run-8b01ce74-b935-4ec2-9c15-b8237052e17d-0', usage_metadata={'input_tokens': 11, 'output_tokens': 38, 'total_tokens': 49, 'input_token_details': {}, 'output_token_details': {}})]} /n\n",
      "[AIMessage(content='今天还不错，谢谢你的关心。你今天怎么样呢？需要我为你做些什么吗？', additional_kwargs={'refusal': None}, response_metadata={'token_usage': {'completion_tokens': 38, 'prompt_tokens': 11, 'total_tokens': 49, 'completion_tokens_details': None, 'prompt_tokens_details': None}, 'model_name': 'gpt-3.5-turbo', 'system_fingerprint': 'fp_0165350fbb', 'finish_reason': 'stop', 'logprobs': None}, id='run-8b01ce74-b935-4ec2-9c15-b8237052e17d-0', usage_metadata={'input_tokens': 11, 'output_tokens': 38, 'total_tokens': 49, 'input_token_details': {}, 'output_token_details': {}})] /n\n",
      "Assistant: 今天还不错，谢谢你的关心。你今天怎么样呢？需要我为你做些什么吗？ /n\n"
     ]
    },
    {
     "name": "stdin",
     "output_type": "stream",
     "text": [
      "User:  身体咋样\n"
     ]
    },
    {
     "name": "stdout",
     "output_type": "stream",
     "text": [
      "执行顺序1--- state值为： {'messages66': [HumanMessage(content='身体咋样', additional_kwargs={}, response_metadata={}, id='462401ea-6794-4695-acac-ba4ad68c5471')]}\n",
      "执行顺序2--- {'messages66': [AIMessage(content='作为一个数字助手，我没有真实的身体，但我可以帮助您回答关于身体健康的问题。如果您有任何健康问题或需要建议，请随时告诉我，我会尽力帮助您。', additional_kwargs={'refusal': None}, response_metadata={'token_usage': {'completion_tokens': 72, 'prompt_tokens': 13, 'total_tokens': 85, 'completion_tokens_details': None, 'prompt_tokens_details': None}, 'model_name': 'gpt-3.5-turbo', 'system_fingerprint': 'fp_808245b034', 'finish_reason': 'stop', 'logprobs': None}, id='run-46182f47-6e70-4dd0-90c6-eb031260056c-0', usage_metadata={'input_tokens': 13, 'output_tokens': 72, 'total_tokens': 85, 'input_token_details': {}, 'output_token_details': {}})]} /n\n",
      "[AIMessage(content='作为一个数字助手，我没有真实的身体，但我可以帮助您回答关于身体健康的问题。如果您有任何健康问题或需要建议，请随时告诉我，我会尽力帮助您。', additional_kwargs={'refusal': None}, response_metadata={'token_usage': {'completion_tokens': 72, 'prompt_tokens': 13, 'total_tokens': 85, 'completion_tokens_details': None, 'prompt_tokens_details': None}, 'model_name': 'gpt-3.5-turbo', 'system_fingerprint': 'fp_808245b034', 'finish_reason': 'stop', 'logprobs': None}, id='run-46182f47-6e70-4dd0-90c6-eb031260056c-0', usage_metadata={'input_tokens': 13, 'output_tokens': 72, 'total_tokens': 85, 'input_token_details': {}, 'output_token_details': {}})] /n\n",
      "Assistant: 作为一个数字助手，我没有真实的身体，但我可以帮助您回答关于身体健康的问题。如果您有任何健康问题或需要建议，请随时告诉我，我会尽力帮助您。 /n\n"
     ]
    },
    {
     "name": "stdin",
     "output_type": "stream",
     "text": [
      "User:  工作干的开心么\n"
     ]
    },
    {
     "name": "stdout",
     "output_type": "stream",
     "text": [
      "执行顺序1--- state值为： {'messages66': [HumanMessage(content='工作干的开心么', additional_kwargs={}, response_metadata={}, id='529df101-48a5-4e3b-be0a-c8fa59ea1fc2')]}\n",
      "执行顺序2--- {'messages66': [AIMessage(content='作为一个AI助手，我没有情感，所以无法说自己是否开心。我只是在完成我所设计的任务和提供帮助。希望我可以带给用户们便利和快乐。有任何问题可以随时问我哦。', additional_kwargs={'refusal': None}, response_metadata={'token_usage': {'completion_tokens': 76, 'prompt_tokens': 15, 'total_tokens': 91, 'completion_tokens_details': None, 'prompt_tokens_details': None}, 'model_name': 'gpt-3.5-turbo', 'system_fingerprint': 'fp_44b923fd7f', 'finish_reason': 'stop', 'logprobs': None}, id='run-a9dc811d-f59d-45fc-8ef8-45bcbbbfaf68-0', usage_metadata={'input_tokens': 15, 'output_tokens': 76, 'total_tokens': 91, 'input_token_details': {}, 'output_token_details': {}})]} /n\n",
      "[AIMessage(content='作为一个AI助手，我没有情感，所以无法说自己是否开心。我只是在完成我所设计的任务和提供帮助。希望我可以带给用户们便利和快乐。有任何问题可以随时问我哦。', additional_kwargs={'refusal': None}, response_metadata={'token_usage': {'completion_tokens': 76, 'prompt_tokens': 15, 'total_tokens': 91, 'completion_tokens_details': None, 'prompt_tokens_details': None}, 'model_name': 'gpt-3.5-turbo', 'system_fingerprint': 'fp_44b923fd7f', 'finish_reason': 'stop', 'logprobs': None}, id='run-a9dc811d-f59d-45fc-8ef8-45bcbbbfaf68-0', usage_metadata={'input_tokens': 15, 'output_tokens': 76, 'total_tokens': 91, 'input_token_details': {}, 'output_token_details': {}})] /n\n",
      "Assistant: 作为一个AI助手，我没有情感，所以无法说自己是否开心。我只是在完成我所设计的任务和提供帮助。希望我可以带给用户们便利和快乐。有任何问题可以随时问我哦。 /n\n"
     ]
    },
    {
     "name": "stdin",
     "output_type": "stream",
     "text": [
      "User:  quit\n"
     ]
    },
    {
     "name": "stdout",
     "output_type": "stream",
     "text": [
      "Goodbye!\n"
     ]
    }
   ],
   "source": [
    " while True:\n",
    "     user_input = input(\"User: \")\n",
    "     if user_input.lower() in [\"quit\", \"exit\", \"q\"]:\n",
    "         print(\"Goodbye!\")\n",
    "         break\n",
    "\n",
    "     # Process user input through the LangGraph\n",
    "     for event in graph.stream({\"messages66\": [(\"user\", user_input)]}):\n",
    "         for value in event.values():\n",
    "             print('执行顺序2---',value,'/n')\n",
    "             print(value['messages66'],'/n')\n",
    "             print(\"Assistant:\", value[\"messages66\"][-1].content,'/n')\n"
   ]
  },
  {
   "cell_type": "markdown",
   "id": "7fa7bc2c-7fe2-4fa0-a7dc-8c038462aeee",
   "metadata": {},
   "source": []
  }
 ],
 "metadata": {
  "kernelspec": {
   "display_name": "Python (env-name)",
   "language": "python",
   "name": "env-name"
  },
  "language_info": {
   "codemirror_mode": {
    "name": "ipython",
    "version": 3
   },
   "file_extension": ".py",
   "mimetype": "text/x-python",
   "name": "python",
   "nbconvert_exporter": "python",
   "pygments_lexer": "ipython3",
   "version": "3.10.16"
  }
 },
 "nbformat": 4,
 "nbformat_minor": 5
}
